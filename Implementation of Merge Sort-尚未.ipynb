{
 "cells": [
  {
   "cell_type": "markdown",
   "metadata": {},
   "source": [
    "# Mine"
   ]
  },
  {
   "cell_type": "code",
   "execution_count": null,
   "metadata": {},
   "outputs": [],
   "source": []
  },
  {
   "cell_type": "markdown",
   "metadata": {},
   "source": [
    "# Instructor"
   ]
  },
  {
   "cell_type": "code",
   "execution_count": 8,
   "metadata": {},
   "outputs": [],
   "source": [
    "def merge_sort(arr):\n",
    "    \n",
    "    if len(arr) > 1:                 # split list until one element left\n",
    "        \n",
    "        mid = len(arr) // 2\n",
    "        lefthalf = arr[:mid]\n",
    "        righthalf = arr[mid:]\n",
    "\n",
    "        merge_sort(lefthalf)          # using recursive calls to find one element in a list\n",
    "        merge_sort(righthalf)\n",
    "\n",
    "        i=0\n",
    "        j=0\n",
    "        k=0\n",
    "        \n",
    "        while i < len(lefthalf) and j < len(righthalf):  #用i & j 來表示 lefthalf & righthalf的length => 理論上有一邊會先滿\n",
    "                                                         # => 另一邊會還差一個element沒有回併入arr \n",
    "                                                         # => 用底下的while i   or   while j來併入最後一個element\n",
    "                                                        \n",
    "            if lefthalf[i] < righthalf[j]:               # right element > left element => 回併left element進入arr\n",
    "                \n",
    "                arr[k] = lefthalf[i]\n",
    "                i = i+1\n",
    "                \n",
    "            else:\n",
    "                \n",
    "                arr[k] = righthalf[j]                    # left element > right element => 回併right element進入arr\n",
    "                j = j+1\n",
    "                \n",
    "            k = k+1\n",
    "\n",
    "        while i < len(lefthalf):                         #剩left的最後一個element還沒有回併入arr => 回併進入arr\n",
    "            \n",
    "            arr[k] = lefthalf[i]\n",
    "            i = i+1\n",
    "            k = k+1\n",
    "\n",
    "        while j < len(righthalf):                        #剩right的最後一個element還沒有回併入arr => 回併進入arr\n",
    "            \n",
    "            arr[k] = righthalf[j]\n",
    "            j = j+1\n",
    "            k = k+1\n",
    "  \n",
    "    print (arr)\n",
    "    \n",
    "    return arr\n"
   ]
  },
  {
   "cell_type": "code",
   "execution_count": 9,
   "metadata": {},
   "outputs": [
    {
     "name": "stdout",
     "output_type": "stream",
     "text": [
      "[11]\n",
      "[2]\n",
      "[2, 11]\n",
      "[5]\n",
      "[4]\n",
      "[4, 5]\n",
      "[2, 4, 5, 11]\n",
      "[7]\n",
      "[6]\n",
      "[6, 7]\n",
      "[8]\n",
      "[1]\n",
      "[23]\n",
      "[1, 23]\n",
      "[1, 8, 23]\n",
      "[1, 6, 7, 8, 23]\n",
      "[1, 2, 4, 5, 6, 7, 8, 11, 23]\n"
     ]
    },
    {
     "data": {
      "text/plain": [
       "[1, 2, 4, 5, 6, 7, 8, 11, 23]"
      ]
     },
     "execution_count": 9,
     "metadata": {},
     "output_type": "execute_result"
    }
   ],
   "source": [
    "arr = [11,2,5,4,7,6,8,1,23]\n",
    "merge_sort(arr)"
   ]
  }
 ],
 "metadata": {
  "kernelspec": {
   "display_name": "Python 3",
   "language": "python",
   "name": "python3"
  },
  "language_info": {
   "codemirror_mode": {
    "name": "ipython",
    "version": 3
   },
   "file_extension": ".py",
   "mimetype": "text/x-python",
   "name": "python",
   "nbconvert_exporter": "python",
   "pygments_lexer": "ipython3",
   "version": "3.7.3"
  }
 },
 "nbformat": 4,
 "nbformat_minor": 2
}
